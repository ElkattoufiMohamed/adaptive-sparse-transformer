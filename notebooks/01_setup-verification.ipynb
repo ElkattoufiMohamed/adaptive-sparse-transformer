{
 "cells": [
  {
   "cell_type": "code",
   "execution_count": 1,
   "metadata": {},
   "outputs": [
    {
     "name": "stdout",
     "output_type": "stream",
     "text": [
      "🎉 Setup verification notebook\n",
      "PyTorch version: 2.8.0+cpu\n",
      "Model output shape: torch.Size([2, 2])\n",
      "✅ Everything working!\n"
     ]
    }
   ],
   "source": [
    "# Cell 1\n",
    "import sys\n",
    "sys.path.append('../src')\n",
    "\n",
    "import torch\n",
    "import numpy as np\n",
    "from models.test_model import SimpleTestModel\n",
    "\n",
    "print(\"🎉 Setup verification notebook\")\n",
    "print(f\"PyTorch version: {torch.__version__}\")\n",
    "\n",
    "# Cell 2\n",
    "# Test our simple model\n",
    "model = SimpleTestModel()\n",
    "test_input = torch.randn(2, 64, 768)\n",
    "output = model(test_input)\n",
    "\n",
    "print(f\"Model output shape: {output.shape}\")\n",
    "print(\"✅ Everything working!\")"
   ]
  },
  {
   "cell_type": "code",
   "execution_count": null,
   "metadata": {},
   "outputs": [],
   "source": []
  }
 ],
 "metadata": {
  "kernelspec": {
   "display_name": "venv",
   "language": "python",
   "name": "python3"
  },
  "language_info": {
   "codemirror_mode": {
    "name": "ipython",
    "version": 3
   },
   "file_extension": ".py",
   "mimetype": "text/x-python",
   "name": "python",
   "nbconvert_exporter": "python",
   "pygments_lexer": "ipython3",
   "version": "3.13.5"
  }
 },
 "nbformat": 4,
 "nbformat_minor": 2
}
